{
 "cells": [
  {
   "cell_type": "markdown",
   "metadata": {
    "slideshow": {
     "slide_type": "slide"
    }
   },
   "source": [
    "# Building scalable tooling\n",
    "\n",
    "David Barroso @dbarrosop {github,twitter,linkedin}"
   ]
  },
  {
   "cell_type": "markdown",
   "metadata": {
    "slideshow": {
     "slide_type": "slide"
    }
   },
   "source": [
    "## whoami\n",
    "\n",
    "- Principal Engineer at Fastly\n",
    " - Dealing with large scale distributed control plane orchestation and management systems\n",
    "\n",
    "\n",
    "- Creator and maintainer of various opensource libraries\n",
    " - `napalm`, `nornir`, `gornir`, `yangify`, `ntc-rosetta`..."
   ]
  },
  {
   "cell_type": "markdown",
   "metadata": {
    "slideshow": {
     "slide_type": "slide"
    }
   },
   "source": [
    "# A story in two parts\n",
    "\n",
    "* Motivation and design goals\n",
    "* Nornir and how it helps meeting those goals"
   ]
  },
  {
   "cell_type": "markdown",
   "metadata": {
    "slideshow": {
     "slide_type": "slide"
    }
   },
   "source": [
    "## Motivation and design goals"
   ]
  },
  {
   "cell_type": "markdown",
   "metadata": {
    "slideshow": {
     "slide_type": "subslide"
    }
   },
   "source": [
    "### Why do we want automation?"
   ]
  },
  {
   "cell_type": "markdown",
   "metadata": {
    "slideshow": {
     "slide_type": "fragment"
    }
   },
   "source": [
    "* Reliability"
   ]
  },
  {
   "cell_type": "markdown",
   "metadata": {
    "slideshow": {
     "slide_type": "fragment"
    }
   },
   "source": [
    "* Consistency"
   ]
  },
  {
   "cell_type": "markdown",
   "metadata": {
    "slideshow": {
     "slide_type": "fragment"
    }
   },
   "source": [
    "* Maintainability"
   ]
  },
  {
   "cell_type": "markdown",
   "metadata": {
    "slideshow": {
     "slide_type": "fragment"
    }
   },
   "source": [
    "**Speed is not a goal but a consequence**"
   ]
  },
  {
   "cell_type": "markdown",
   "metadata": {
    "slideshow": {
     "slide_type": "subslide"
    }
   },
   "source": [
    "At this point there is little argument about our motivation for automation, however, why don't we apply the same principles when writing our automation system?"
   ]
  },
  {
   "cell_type": "markdown",
   "metadata": {
    "slideshow": {
     "slide_type": "fragment"
    }
   },
   "source": [
    "How can you argue your tooling brings those three properties to your network if you can't say the same about your tooling?"
   ]
  },
  {
   "cell_type": "markdown",
   "metadata": {
    "slideshow": {
     "slide_type": "slide"
    }
   },
   "source": [
    "## Reliability"
   ]
  },
  {
   "cell_type": "markdown",
   "metadata": {
    "slideshow": {
     "slide_type": "fragment"
    }
   },
   "source": [
    "Does our software do what we claim it does?"
   ]
  },
  {
   "cell_type": "markdown",
   "metadata": {
    "slideshow": {
     "slide_type": "fragment"
    }
   },
   "source": [
    "Can we change it without breaking anything?"
   ]
  },
  {
   "cell_type": "markdown",
   "metadata": {
    "slideshow": {
     "slide_type": "subslide"
    }
   },
   "source": [
    "Forget about {unit, integrations, acceptance} tests"
   ]
  },
  {
   "cell_type": "markdown",
   "metadata": {
    "slideshow": {
     "slide_type": "fragment"
    }
   },
   "source": [
    "Test the interactions with the system from a user perspective"
   ]
  },
  {
   "cell_type": "markdown",
   "metadata": {
    "slideshow": {
     "slide_type": "fragment"
    }
   },
   "source": [
    "If there is a bug, make sure you add a test that simulates how the user may trigger it and fix to avoid regressions "
   ]
  },
  {
   "cell_type": "markdown",
   "metadata": {
    "slideshow": {
     "slide_type": "fragment"
    }
   },
   "source": [
    "If you think it's worth it, add unit tests, but always focus first on interactions from the user perspective"
   ]
  },
  {
   "cell_type": "markdown",
   "metadata": {
    "slideshow": {
     "slide_type": "slide"
    }
   },
   "source": [
    "## Consistency"
   ]
  },
  {
   "cell_type": "markdown",
   "metadata": {
    "slideshow": {
     "slide_type": "fragment"
    }
   },
   "source": [
    "Avoid cognitive overhead which can lead to bugs, wasted time and bikeshedding"
   ]
  },
  {
   "cell_type": "markdown",
   "metadata": {
    "slideshow": {
     "slide_type": "subslide"
    }
   },
   "source": [
    "### Adopt frameworks and best practices"
   ]
  },
  {
   "cell_type": "markdown",
   "metadata": {
    "slideshow": {
     "slide_type": "fragment"
    }
   },
   "source": [
    "Choose a framework and stick by it unless strictly necessary"
   ]
  },
  {
   "cell_type": "markdown",
   "metadata": {
    "slideshow": {
     "slide_type": "fragment"
    }
   },
   "source": [
    "If you need external services, standardize and adopt them across the board (i.e., databases, message buses, etc)"
   ]
  },
  {
   "cell_type": "markdown",
   "metadata": {
    "slideshow": {
     "slide_type": "fragment"
    }
   },
   "source": [
    "Adopt a coding style (or an opinionated linter) to minimize arguments about style (i.e., black)"
   ]
  },
  {
   "cell_type": "markdown",
   "metadata": {
    "slideshow": {
     "slide_type": "subslide"
    }
   },
   "source": [
    "The goal is to be able to collaborate on multiple projects without having to pay a very expensive context switch cost or waste time arguing about tabs vs space or MySQL vs postgres"
   ]
  },
  {
   "cell_type": "markdown",
   "metadata": {
    "slideshow": {
     "slide_type": "slide"
    }
   },
   "source": [
    "## Maintainability\n",
    "\n",
    "* Readability\n",
    "* Abstractions\n",
    "* Developer's tooling"
   ]
  },
  {
   "cell_type": "markdown",
   "metadata": {
    "slideshow": {
     "slide_type": "subslide"
    }
   },
   "source": [
    "### Readability\n",
    "\n",
    "Code is read more often than it is written so optimize for reading"
   ]
  },
  {
   "cell_type": "markdown",
   "metadata": {
    "slideshow": {
     "slide_type": "subslide"
    }
   },
   "source": [
    "One-liners look clever and might save you some typing but you will eventually have to read it and remember how it worked."
   ]
  },
  {
   "cell_type": "code",
   "execution_count": 1,
   "metadata": {
    "slideshow": {
     "slide_type": "subslide"
    }
   },
   "outputs": [
    {
     "name": "stdout",
     "output_type": "stream",
     "text": [
      "{'hostA': {'vlans': {'PROD': 20}}, 'hostB': {'vlans': {'PROD': 20}}}\n"
     ]
    }
   ],
   "source": [
    "# filter odd vlans and capitalize name, take 1\n",
    "hosts = {\n",
    "    \"hostA\": {\n",
    "        \"vlans\": {\n",
    "            \"prod\": 20,\n",
    "            \"dev\": 21,\n",
    "        }\n",
    "    },\n",
    "    \"hostB\": {\n",
    "        \"vlans\": {\n",
    "            \"prod\": 20,\n",
    "            \"dev\": 21,\n",
    "        }\n",
    "    },\n",
    "    \n",
    "}\n",
    "\n",
    "hosts_capitalized = {n: {\"vlans\": {v.upper(): i}for v, i in h[\"vlans\"].items() if i % 2 == 0} for n, h in hosts.items()}\n",
    "print(hosts_capitalized)"
   ]
  },
  {
   "cell_type": "code",
   "execution_count": 2,
   "metadata": {
    "slideshow": {
     "slide_type": "subslide"
    }
   },
   "outputs": [
    {
     "name": "stdout",
     "output_type": "stream",
     "text": [
      "{'hostA': {'vlans': {'PROD': 20}}, 'hostB': {'vlans': {'PROD': 20}}}\n"
     ]
    }
   ],
   "source": [
    "# filter odd vlans and capitalize name, take 2\n",
    "hosts = {\n",
    "    \"hostA\": {\n",
    "        \"vlans\": {\n",
    "            \"prod\": 20,\n",
    "            \"dev\": 21,\n",
    "        }\n",
    "    },\n",
    "    \"hostB\": {\n",
    "        \"vlans\": {\n",
    "            \"prod\": 20,\n",
    "            \"dev\": 21,\n",
    "        }\n",
    "    },\n",
    "    \n",
    "}\n",
    "\n",
    "hosts_capitalized = {}\n",
    "for name, host in hosts.items():\n",
    "    hosts_capitalized[name] = {\"vlans\": {}}\n",
    "    for vlan_name, vlan_id in host[\"vlans\"].items():\n",
    "        if vlan_id % 2 == 0:\n",
    "            hosts_capitalized[name][\"vlans\"] = {vlan_name.upper(): vlan_id}\n",
    "print(hosts_capitalized)"
   ]
  },
  {
   "cell_type": "markdown",
   "metadata": {
    "slideshow": {
     "slide_type": "subslide"
    }
   },
   "source": [
    "First example has a bug, good luck finding it and fixing it :)"
   ]
  },
  {
   "cell_type": "markdown",
   "metadata": {
    "slideshow": {
     "slide_type": "subslide"
    }
   },
   "source": [
    "Avoid nested code and complex logic:"
   ]
  },
  {
   "cell_type": "code",
   "execution_count": 3,
   "metadata": {
    "slideshow": {
     "slide_type": "subslide"
    }
   },
   "outputs": [
    {
     "name": "stdout",
     "output_type": "stream",
     "text": [
      "{'hostA': {'vlans': {'PROD': 20}}, 'hostB': {'vlans': {'PROD': 20}}}\n"
     ]
    }
   ],
   "source": [
    "# filter odd vlans and capitalize name, take 3\n",
    "hosts = {\n",
    "    \"hostA\": {\n",
    "        \"vlans\": {\n",
    "            \"prod\": 20,\n",
    "            \"dev\": 21,\n",
    "        }\n",
    "    },\n",
    "    \"hostB\": {\n",
    "        \"vlans\": {\n",
    "            \"prod\": 20,\n",
    "            \"dev\": 21,\n",
    "        }\n",
    "    },\n",
    "    \n",
    "}\n",
    "\n",
    "def get_even_vlans_with_name_in_caps(vlans):\n",
    "    return {vlan_name.upper(): vlan_id\n",
    "            for vlan_name, vlan_id in vlans.items() if vlan_id % 2 == 0}\n",
    "\n",
    "hosts_capitalized = {}\n",
    "for name, host in hosts.items():\n",
    "    hosts_capitalized[name] = {\n",
    "        \"vlans\": get_even_vlans_with_name_in_caps(host[\"vlans\"])\n",
    "    }\n",
    "print(hosts_capitalized)"
   ]
  },
  {
   "cell_type": "code",
   "execution_count": 4,
   "metadata": {
    "slideshow": {
     "slide_type": "subslide"
    }
   },
   "outputs": [
    {
     "name": "stdout",
     "output_type": "stream",
     "text": [
      "{'hostA': {'vlans': {'PROD': 20}}, 'hostB': {'vlans': {'PROD': 20}}}\n"
     ]
    }
   ],
   "source": [
    "# filter odd vlans and capitalize name, take 4\n",
    "hosts = {\n",
    "    \"hostA\": {\n",
    "        \"vlans\": {\n",
    "            \"prod\": 20,\n",
    "            \"dev\": 21,\n",
    "        }\n",
    "    },\n",
    "    \"hostB\": {\n",
    "        \"vlans\": {\n",
    "            \"prod\": 20,\n",
    "            \"dev\": 21,\n",
    "        }\n",
    "    },\n",
    "    \n",
    "}\n",
    "\n",
    "def get_even_vlans_with_name_in_caps(vlans):\n",
    "    return {vlan_name.upper(): vlan_id\n",
    "            for vlan_name, vlan_id in vlans.items() if vlan_id % 2 == 0}\n",
    "\n",
    "\n",
    "hosts_capitalized = {\n",
    "    hostname: {\"vlans\": get_even_vlans_with_name_in_caps(host[\"vlans\"])}\n",
    "    for hostname, host in hosts.items()\n",
    "}\n",
    "print(hosts_capitalized)"
   ]
  },
  {
   "cell_type": "markdown",
   "metadata": {
    "slideshow": {
     "slide_type": "subslide"
    }
   },
   "source": [
    "### Abstractions\n",
    "\n",
    "Break down your code into different layers of abstraction\n",
    "\n",
    "Each abstraction should be concerned about solving the problem presented in its layer\n",
    "\n",
    "Each abstraction should provide a stable contract so other abstractions can consume it"
   ]
  },
  {
   "cell_type": "markdown",
   "metadata": {
    "slideshow": {
     "slide_type": "subslide"
    }
   },
   "source": [
    "Example, deploying services:\n",
    "\n",
    "1. Service abstractions: `deploy_vpn_service`, `deploy_peer`, ...\n",
    "2. Configuration abstractions: `deploy_vlans`, `deploy_bgp_session`, `deploy_policy`...\n",
    "3. Device abstraction: `send_config`, `get_state`, ..."
   ]
  },
  {
   "cell_type": "markdown",
   "metadata": {
    "slideshow": {
     "slide_type": "subslide"
    }
   },
   "source": [
    "Abstractions are good for the separation of concerns"
   ]
  },
  {
   "cell_type": "markdown",
   "metadata": {
    "slideshow": {
     "slide_type": "fragment"
    }
   },
   "source": [
    "With good separation of concerns things can be mocked, tested and debugged independently and should allow you to easily ask questions you may have about your software. For instance:"
   ]
  },
  {
   "cell_type": "markdown",
   "metadata": {
    "slideshow": {
     "slide_type": "fragment"
    }
   },
   "source": [
    "* Given the request of deploying a service, can my software identify which parts need to be configured and which parameters need to be set?"
   ]
  },
  {
   "cell_type": "markdown",
   "metadata": {
    "slideshow": {
     "slide_type": "fragment"
    }
   },
   "source": [
    "* Given the right input, is my service generating the correct configuration?"
   ]
  },
  {
   "cell_type": "markdown",
   "metadata": {
    "slideshow": {
     "slide_type": "fragment"
    }
   },
   "source": [
    "* Given some configuration, is my library able to deploy it correctly to the device?"
   ]
  },
  {
   "cell_type": "markdown",
   "metadata": {
    "slideshow": {
     "slide_type": "subslide"
    }
   },
   "source": [
    "## Developer's tooling\n",
    "\n",
    "A developer should have tooling to:\n",
    "\n",
    "1. Help write code; autocompletion, inline documentation, refactoring, etc...\n",
    "2. Inspect and explore what the program is doing during its execution\n",
    "3. Observe how the system behaves in production"
   ]
  },
  {
   "cell_type": "markdown",
   "metadata": {
    "slideshow": {
     "slide_type": "slide"
    }
   },
   "source": [
    "# Nornir and how it helps meet those goals"
   ]
  },
  {
   "cell_type": "markdown",
   "metadata": {
    "slideshow": {
     "slide_type": "subslide"
    }
   },
   "source": [
    "## What's Nornir?\n",
    "\n",
    "Pluggable multi-threaded framework with inventory management to help operate collections of devices"
   ]
  },
  {
   "cell_type": "code",
   "execution_count": 5,
   "metadata": {
    "slideshow": {
     "slide_type": "subslide"
    }
   },
   "outputs": [
    {
     "name": "stdout",
     "output_type": "stream",
     "text": [
      "\u001b[1m\u001b[36mcommand*************************************************************************\u001b[0m\n",
      "\u001b[0m\u001b[1m\u001b[34m* leaf00.bma ** changed : False ************************************************\u001b[0m\n",
      "\u001b[0m\u001b[1m\u001b[32mvvvv command ** changed : False vvvvvvvvvvvvvvvvvvvvvvvvvvvvvvvvvvvvvvvvvvvvvvvv INFO\u001b[0m\n",
      "\u001b[0mHi!\n",
      "\u001b[0m\n",
      "\u001b[0m\u001b[1m\u001b[32m^^^^ END command ^^^^^^^^^^^^^^^^^^^^^^^^^^^^^^^^^^^^^^^^^^^^^^^^^^^^^^^^^^^^^^^\u001b[0m\n",
      "\u001b[0m\u001b[1m\u001b[34m* leaf01.bma ** changed : False ************************************************\u001b[0m\n",
      "\u001b[0m\u001b[1m\u001b[32mvvvv command ** changed : False vvvvvvvvvvvvvvvvvvvvvvvvvvvvvvvvvvvvvvvvvvvvvvvv INFO\u001b[0m\n",
      "\u001b[0mHi!\n",
      "\u001b[0m\n",
      "\u001b[0m\u001b[1m\u001b[32m^^^^ END command ^^^^^^^^^^^^^^^^^^^^^^^^^^^^^^^^^^^^^^^^^^^^^^^^^^^^^^^^^^^^^^^\u001b[0m\n",
      "\u001b[0m\u001b[1m\u001b[34m* spine00.bma ** changed : False ***********************************************\u001b[0m\n",
      "\u001b[0m\u001b[1m\u001b[32mvvvv command ** changed : False vvvvvvvvvvvvvvvvvvvvvvvvvvvvvvvvvvvvvvvvvvvvvvvv INFO\u001b[0m\n",
      "\u001b[0mHi!\n",
      "\u001b[0m\n",
      "\u001b[0m\u001b[1m\u001b[32m^^^^ END command ^^^^^^^^^^^^^^^^^^^^^^^^^^^^^^^^^^^^^^^^^^^^^^^^^^^^^^^^^^^^^^^\u001b[0m\n",
      "\u001b[0m\u001b[1m\u001b[34m* spine01.bma ** changed : False ***********************************************\u001b[0m\n",
      "\u001b[0m\u001b[1m\u001b[32mvvvv command ** changed : False vvvvvvvvvvvvvvvvvvvvvvvvvvvvvvvvvvvvvvvvvvvvvvvv INFO\u001b[0m\n",
      "\u001b[0mHi!\n",
      "\u001b[0m\n",
      "\u001b[0m\u001b[1m\u001b[32m^^^^ END command ^^^^^^^^^^^^^^^^^^^^^^^^^^^^^^^^^^^^^^^^^^^^^^^^^^^^^^^^^^^^^^^\u001b[0m\n",
      "\u001b[0m"
     ]
    }
   ],
   "source": [
    "from nornir import InitNornir\n",
    "from nornir.plugins.tasks.commands import command\n",
    "from nornir.plugins.functions.text import print_result\n",
    "\n",
    "nr = InitNornir(config_file=\"1_intro/config.yaml\")\n",
    "result = nr.run(task=command,\n",
    "                command=\"echo Hi!\")\n",
    "print_result(result, vars=[\"stdout\"])"
   ]
  },
  {
   "cell_type": "markdown",
   "metadata": {
    "slideshow": {
     "slide_type": "subslide"
    }
   },
   "source": [
    "## Why Nornir\n",
    "\n",
    "Because it's written in python and meant to be used with python\n",
    "\n",
    "* Orders of magnitude faster than YAML-based alternatives\n",
    "* Integrate natively with other python frameworks like flask, django, click, etc...\n",
    "* Easier to extend\n",
    "* Cleaner logic\n",
    "* Leverage linters, debuggers and loggers and IDEs for python"
   ]
  },
  {
   "cell_type": "markdown",
   "metadata": {
    "slideshow": {
     "slide_type": "subslide"
    }
   },
   "source": [
    "A well-known cloud and hosting provider is using it to gather state from +10.000 devices in less than 5 minutes"
   ]
  },
  {
   "cell_type": "markdown",
   "metadata": {
    "slideshow": {
     "slide_type": "subslide"
    }
   },
   "source": [
    "### Integrations\n",
    "\n",
    "* with network devices via netmiko, napalm and netconf\n",
    "* with inventories like yaml, ansible-inventory, nsot and netbox\n",
    "\n",
    "Extremely easy to add your own if needed"
   ]
  },
  {
   "cell_type": "markdown",
   "metadata": {
    "slideshow": {
     "slide_type": "slide"
    }
   },
   "source": [
    "## Reliability\n",
    "\n",
    "Nornir is python code, which means we can use standard python tools for testing and mocking"
   ]
  },
  {
   "cell_type": "markdown",
   "metadata": {
    "slideshow": {
     "slide_type": "subslide"
    }
   },
   "source": [
    "![test](images/tests.png)"
   ]
  },
  {
   "cell_type": "markdown",
   "metadata": {
    "slideshow": {
     "slide_type": "subslide"
    }
   },
   "source": [
    "A simple task:\n",
    "``` python\n",
    "def configure_description(task, interface, to_device, to_interface):\n",
    "    return f\"interface {interface}\\ndescription conntected to {to_device}:{to_interface}\"\n",
    "```\n",
    "\n",
    "Testing the task:\n",
    "\n",
    "``` python    \n",
    "class Test:\n",
    "    def test_configure_interface_description(self, nornir):\n",
    "        assert configure_description(None, \"ten0/1/0\", \"rtr00\", \"ten0/1/1\") == \\\n",
    "               \"interface ten0/1/0\\ndescription connected to rtr00:ten0/1/0\"\n",
    "```"
   ]
  },
  {
   "cell_type": "markdown",
   "metadata": {
    "slideshow": {
     "slide_type": "subslide"
    }
   },
   "source": [
    "Tests allow you to experiment and iterate with confidence"
   ]
  },
  {
   "cell_type": "markdown",
   "metadata": {
    "slideshow": {
     "slide_type": "slide"
    }
   },
   "source": [
    "## Consistency\n",
    "\n",
    "Nornir has a system of plugins that allows you to:\n",
    "\n",
    "1. Perform operations (aka tasks)\n",
    "2. Read inventory data from various sources\n",
    "3. Process results and signals from tasks\n",
    "\n",
    "You can run arbitrary python code where needed but by following the plugin patterns it becomes easier to know what to expect"
   ]
  },
  {
   "cell_type": "markdown",
   "metadata": {
    "slideshow": {
     "slide_type": "subslide"
    }
   },
   "source": [
    "Integrates natively with any python framework:\n",
    "* django, flask, tornado\n",
    "* click, argparse\n",
    "* logging\n",
    "..."
   ]
  },
  {
   "cell_type": "markdown",
   "metadata": {
    "slideshow": {
     "slide_type": "subslide"
    }
   },
   "source": [
    "``` python\n",
    "from nornir.core import InitNornir\n",
    "from nornir.plugins.tasks.networking import napalm_get\n",
    "\n",
    "nr = InitNornir(config_file=\"/monit/config.yaml\", num_workers=100)\n",
    "\n",
    "@app.route(\"/bgp_neighors\")\n",
    "def metrics():\n",
    "    results = nr.run(\n",
    "        task=napalm_get,\n",
    "        getters=[\"bgp_neighbors\"],\n",
    "             \n",
    "    )\n",
    "    return Response(results.results[\"bgp_neighbors\"])\n",
    "```"
   ]
  },
  {
   "cell_type": "markdown",
   "metadata": {
    "slideshow": {
     "slide_type": "slide"
    }
   },
   "source": [
    "# Maintainability\n",
    "\n",
    "* Readability\n",
    "* Abstractions\n",
    "* Developer's tooling"
   ]
  },
  {
   "cell_type": "markdown",
   "metadata": {
    "slideshow": {
     "slide_type": "subslide"
    }
   },
   "source": [
    "### Readability\n",
    "\n",
    "Being python you can leverage the same techniques as with regular python code to improve readability; functions, classes, decorators, libraries, etc..."
   ]
  },
  {
   "cell_type": "markdown",
   "metadata": {
    "slideshow": {
     "slide_type": "subslide"
    }
   },
   "source": [
    "### Abstractions\n",
    "\n",
    "* Tasks are the minimum unit of work\n",
    "* Tasks can embed other tasks"
   ]
  },
  {
   "cell_type": "markdown",
   "metadata": {
    "slideshow": {
     "slide_type": "subslide"
    }
   },
   "source": [
    "``` python\n",
    "def configure_complex_service(task, parameters):\n",
    "    bgp_conf = task.run(\n",
    "        task=template,\n",
    "        template=\"templates/{task.host.platform}/bgp.j2\",\n",
    "        bgp_parameters=parameters[\"bgp\"])    \n",
    "    vlan_conf = task.run(\n",
    "        task=template,\n",
    "        template=\"templates/{task.host.platform}/vlan.j2\",\n",
    "        bgp_parameters=parameters[\"vlan\"])\n",
    "    return bgp_conf.result + vlan_conf.result\n",
    "    \n",
    "def deploy_some_complex_service(task, parameters):\n",
    "    conf = task.run(\n",
    "        task=configure_complex_service,\n",
    "        parameters=paramters)\n",
    "    task.run(\n",
    "        task=napalm_configure,\n",
    "        config=conf.result)\n",
    "\n",
    "\n",
    "nr.run(\n",
    "    task=deploy_some_complex_service,\n",
    "    parameters=paramters,\n",
    ")\n",
    "```"
   ]
  },
  {
   "cell_type": "markdown",
   "metadata": {
    "slideshow": {
     "slide_type": "slide"
    }
   },
   "source": [
    "Separation of concerns and abstractions:\n",
    "\n",
    "* `deploy_some_complex_service` is our service-abstraction\n",
    "* `configure_complex_service` is our configuration abstraction and is solely reponsible of making sure the correct configuration is generated\n",
    "* `napalm`, `netmiko`, `ncclient` tasks represent our device abstractions and are responsible of interacting with our network equipment\n",
    "\n",
    "Each abstraction is independent and can be tested independently with standard python mocking and testing libraries."
   ]
  },
  {
   "cell_type": "markdown",
   "metadata": {
    "slideshow": {
     "slide_type": "subslide"
    }
   },
   "source": [
    "### Developer's tooling"
   ]
  },
  {
   "cell_type": "markdown",
   "metadata": {
    "slideshow": {
     "slide_type": "subslide"
    }
   },
   "source": [
    "### Logging\n",
    "\n",
    "\n",
    "``` python\n",
    "import logging\n",
    "\n",
    "def my_task(task):\n",
    "    logging.debug(f\"doing something on {task.host}\")\n",
    "```"
   ]
  },
  {
   "cell_type": "markdown",
   "metadata": {
    "slideshow": {
     "slide_type": "subslide"
    }
   },
   "source": [
    "### Inline documentation\n",
    "\n",
    "![doc](images/IDE/1.png)"
   ]
  },
  {
   "cell_type": "markdown",
   "metadata": {
    "slideshow": {
     "slide_type": "subslide"
    }
   },
   "source": [
    "### Autocompletion\n",
    "\n",
    "![autocompletion](images/IDE/2.png)"
   ]
  },
  {
   "cell_type": "markdown",
   "metadata": {
    "slideshow": {
     "slide_type": "subslide"
    }
   },
   "source": [
    "### Debugger\n",
    "\n",
    "![doc](images/IDE/3.png)"
   ]
  },
  {
   "cell_type": "markdown",
   "metadata": {
    "slideshow": {
     "slide_type": "subslide"
    }
   },
   "source": [
    "### Debugger\n",
    "\n",
    "![doc](images/IDE/4.png)"
   ]
  },
  {
   "cell_type": "markdown",
   "metadata": {
    "slideshow": {
     "slide_type": "subslide"
    }
   },
   "source": [
    "### Debugger\n",
    "\n",
    "![doc](images/IDE/5.png)"
   ]
  },
  {
   "cell_type": "markdown",
   "metadata": {
    "slideshow": {
     "slide_type": "subslide"
    }
   },
   "source": [
    "### Debugger\n",
    "\n",
    "![doc](images/IDE/6.png)"
   ]
  },
  {
   "cell_type": "markdown",
   "metadata": {
    "slideshow": {
     "slide_type": "subslide"
    }
   },
   "source": [
    "### Debugger\n",
    "\n",
    "![doc](images/IDE/7.png)"
   ]
  },
  {
   "cell_type": "markdown",
   "metadata": {
    "slideshow": {
     "slide_type": "subslide"
    }
   },
   "source": [
    "### Debugger\n",
    "\n",
    "![doc](images/IDE/8.png)"
   ]
  },
  {
   "cell_type": "markdown",
   "metadata": {
    "slideshow": {
     "slide_type": "slide"
    }
   },
   "source": [
    "# Summary\n",
    "\n",
    "* Look for reliability, repeatibility and maintainability both in your network and your automation tooling\n",
    "* If you can't guarantee a property anywhere in your stack you can't guarantee it in the system\n",
    "* It's not enough to learn to code, you need to learn the tooling and best practices"
   ]
  },
  {
   "cell_type": "markdown",
   "metadata": {
    "slideshow": {
     "slide_type": "slide"
    }
   },
   "source": [
    "# FIN"
   ]
  }
 ],
 "metadata": {
  "celltoolbar": "Slideshow",
  "kernelspec": {
   "display_name": "Python 3",
   "language": "python",
   "name": "python3"
  },
  "language_info": {
   "codemirror_mode": {
    "name": "ipython",
    "version": 3
   },
   "file_extension": ".py",
   "mimetype": "text/x-python",
   "name": "python",
   "nbconvert_exporter": "python",
   "pygments_lexer": "ipython3",
   "version": "3.6.8"
  }
 },
 "nbformat": 4,
 "nbformat_minor": 2
}
